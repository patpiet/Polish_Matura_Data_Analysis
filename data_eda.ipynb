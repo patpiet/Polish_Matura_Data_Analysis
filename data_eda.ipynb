{
 "cells": [
  {
   "cell_type": "code",
   "execution_count": 1,
   "id": "2672913b",
   "metadata": {},
   "outputs": [],
   "source": [
    "# Understand the data\n",
    "# Find insights\n",
    "# Visualize the data\n",
    "# Create a dropdown for categories\n",
    "# Create map of Poland with the passed exams ratio"
   ]
  },
  {
   "cell_type": "code",
   "execution_count": null,
   "id": "4e1efefa",
   "metadata": {},
   "outputs": [],
   "source": []
  }
 ],
 "metadata": {
  "kernelspec": {
   "display_name": "Python 3 (ipykernel)",
   "language": "python",
   "name": "python3"
  },
  "language_info": {
   "codemirror_mode": {
    "name": "ipython",
    "version": 3
   },
   "file_extension": ".py",
   "mimetype": "text/x-python",
   "name": "python",
   "nbconvert_exporter": "python",
   "pygments_lexer": "ipython3",
   "version": "3.9.7"
  }
 },
 "nbformat": 4,
 "nbformat_minor": 5
}
